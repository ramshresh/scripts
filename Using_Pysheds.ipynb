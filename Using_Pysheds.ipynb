{
  "nbformat": 4,
  "nbformat_minor": 0,
  "metadata": {
    "colab": {
      "provenance": [],
      "mount_file_id": "14fWM1eqERrl4sKWD3LGuZN2w46k6aCuB",
      "authorship_tag": "ABX9TyNDqEIE4Tyr7Ljjcv5X9se2",
      "include_colab_link": true
    },
    "kernelspec": {
      "name": "python3",
      "display_name": "Python 3"
    },
    "language_info": {
      "name": "python"
    }
  },
  "cells": [
    {
      "cell_type": "markdown",
      "metadata": {
        "id": "view-in-github",
        "colab_type": "text"
      },
      "source": [
        "<a href=\"https://colab.research.google.com/github/ramshresh/scripts/blob/master/Using_Pysheds.ipynb\" target=\"_parent\"><img src=\"https://colab.research.google.com/assets/colab-badge.svg\" alt=\"Open In Colab\"/></a>"
      ]
    },
    {
      "cell_type": "code",
      "execution_count": 4,
      "metadata": {
        "colab": {
          "base_uri": "https://localhost:8080/"
        },
        "id": "CYlpBlMaXtfv",
        "outputId": "29355405-3097-43c1-fac4-9ad5e2b8f750"
      },
      "outputs": [
        {
          "output_type": "stream",
          "name": "stdout",
          "text": [
            "Collecting pysheds\n",
            "  Downloading pysheds-0.3.5-py3-none-any.whl (89 kB)\n",
            "\u001b[?25l     \u001b[90m━━━━━━━━━━━━━━━━━━━━━━━━━━━━━━━━━━━━━━━━\u001b[0m \u001b[32m0.0/89.6 kB\u001b[0m \u001b[31m?\u001b[0m eta \u001b[36m-:--:--\u001b[0m\r\u001b[2K     \u001b[90m━━━━━━━━━━━━━━━━━━━━━━━━━━━━━━━━━━━━━━━━\u001b[0m \u001b[32m89.6/89.6 kB\u001b[0m \u001b[31m2.5 MB/s\u001b[0m eta \u001b[36m0:00:00\u001b[0m\n",
            "\u001b[?25hRequirement already satisfied: matplotlib in /usr/local/lib/python3.10/dist-packages (3.7.1)\n",
            "Requirement already satisfied: seaborn in /usr/local/lib/python3.10/dist-packages (0.13.1)\n",
            "Collecting rasterio\n",
            "  Downloading rasterio-1.3.10-cp310-cp310-manylinux2014_x86_64.whl (21.5 MB)\n",
            "\u001b[2K     \u001b[90m━━━━━━━━━━━━━━━━━━━━━━━━━━━━━━━━━━━━━━━━\u001b[0m \u001b[32m21.5/21.5 MB\u001b[0m \u001b[31m49.9 MB/s\u001b[0m eta \u001b[36m0:00:00\u001b[0m\n",
            "\u001b[?25hRequirement already satisfied: fiona in /usr/local/lib/python3.10/dist-packages (1.9.6)\n",
            "Requirement already satisfied: geopandas in /usr/local/lib/python3.10/dist-packages (0.13.2)\n",
            "Requirement already satisfied: networkx in /usr/local/lib/python3.10/dist-packages (3.3)\n",
            "Collecting affine (from pysheds)\n",
            "  Downloading affine-2.4.0-py3-none-any.whl (15 kB)\n",
            "Collecting geojson (from pysheds)\n",
            "  Downloading geojson-3.1.0-py3-none-any.whl (15 kB)\n",
            "Requirement already satisfied: numba in /usr/local/lib/python3.10/dist-packages (from pysheds) (0.58.1)\n",
            "Requirement already satisfied: numpy in /usr/local/lib/python3.10/dist-packages (from pysheds) (1.25.2)\n",
            "Requirement already satisfied: pandas in /usr/local/lib/python3.10/dist-packages (from pysheds) (2.0.3)\n",
            "Requirement already satisfied: pyproj in /usr/local/lib/python3.10/dist-packages (from pysheds) (3.6.1)\n",
            "Requirement already satisfied: scikit-image in /usr/local/lib/python3.10/dist-packages (from pysheds) (0.19.3)\n",
            "Requirement already satisfied: scipy in /usr/local/lib/python3.10/dist-packages (from pysheds) (1.11.4)\n",
            "Requirement already satisfied: contourpy>=1.0.1 in /usr/local/lib/python3.10/dist-packages (from matplotlib) (1.2.1)\n",
            "Requirement already satisfied: cycler>=0.10 in /usr/local/lib/python3.10/dist-packages (from matplotlib) (0.12.1)\n",
            "Requirement already satisfied: fonttools>=4.22.0 in /usr/local/lib/python3.10/dist-packages (from matplotlib) (4.51.0)\n",
            "Requirement already satisfied: kiwisolver>=1.0.1 in /usr/local/lib/python3.10/dist-packages (from matplotlib) (1.4.5)\n",
            "Requirement already satisfied: packaging>=20.0 in /usr/local/lib/python3.10/dist-packages (from matplotlib) (24.0)\n",
            "Requirement already satisfied: pillow>=6.2.0 in /usr/local/lib/python3.10/dist-packages (from matplotlib) (9.4.0)\n",
            "Requirement already satisfied: pyparsing>=2.3.1 in /usr/local/lib/python3.10/dist-packages (from matplotlib) (3.1.2)\n",
            "Requirement already satisfied: python-dateutil>=2.7 in /usr/local/lib/python3.10/dist-packages (from matplotlib) (2.8.2)\n",
            "Requirement already satisfied: attrs in /usr/local/lib/python3.10/dist-packages (from rasterio) (23.2.0)\n",
            "Requirement already satisfied: certifi in /usr/local/lib/python3.10/dist-packages (from rasterio) (2024.2.2)\n",
            "Requirement already satisfied: click>=4.0 in /usr/local/lib/python3.10/dist-packages (from rasterio) (8.1.7)\n",
            "Requirement already satisfied: cligj>=0.5 in /usr/local/lib/python3.10/dist-packages (from rasterio) (0.7.2)\n",
            "Collecting snuggs>=1.4.1 (from rasterio)\n",
            "  Downloading snuggs-1.4.7-py3-none-any.whl (5.4 kB)\n",
            "Requirement already satisfied: click-plugins in /usr/local/lib/python3.10/dist-packages (from rasterio) (1.1.1)\n",
            "Requirement already satisfied: setuptools in /usr/local/lib/python3.10/dist-packages (from rasterio) (67.7.2)\n",
            "Requirement already satisfied: six in /usr/local/lib/python3.10/dist-packages (from fiona) (1.16.0)\n",
            "Requirement already satisfied: shapely>=1.7.1 in /usr/local/lib/python3.10/dist-packages (from geopandas) (2.0.3)\n",
            "Requirement already satisfied: pytz>=2020.1 in /usr/local/lib/python3.10/dist-packages (from pandas->pysheds) (2023.4)\n",
            "Requirement already satisfied: tzdata>=2022.1 in /usr/local/lib/python3.10/dist-packages (from pandas->pysheds) (2024.1)\n",
            "Requirement already satisfied: llvmlite<0.42,>=0.41.0dev0 in /usr/local/lib/python3.10/dist-packages (from numba->pysheds) (0.41.1)\n",
            "Requirement already satisfied: imageio>=2.4.1 in /usr/local/lib/python3.10/dist-packages (from scikit-image->pysheds) (2.31.6)\n",
            "Requirement already satisfied: tifffile>=2019.7.26 in /usr/local/lib/python3.10/dist-packages (from scikit-image->pysheds) (2024.2.12)\n",
            "Requirement already satisfied: PyWavelets>=1.1.1 in /usr/local/lib/python3.10/dist-packages (from scikit-image->pysheds) (1.6.0)\n",
            "Installing collected packages: snuggs, geojson, affine, rasterio, pysheds\n",
            "Successfully installed affine-2.4.0 geojson-3.1.0 pysheds-0.3.5 rasterio-1.3.10 snuggs-1.4.7\n"
          ]
        }
      ],
      "source": [
        "!pip install pysheds matplotlib seaborn rasterio fiona geopandas networkx"
      ]
    },
    {
      "cell_type": "code",
      "source": [
        "import os\n",
        "import sys\n",
        "venv_path = sys.prefix\n",
        "print(f'Environment Paths (Python): \\n{venv_path}')"
      ],
      "metadata": {
        "colab": {
          "base_uri": "https://localhost:8080/"
        },
        "id": "_PmtacnyYK8T",
        "outputId": "ef2d605f-599a-44cd-bbee-b95587201eaf"
      },
      "execution_count": 2,
      "outputs": [
        {
          "output_type": "stream",
          "name": "stdout",
          "text": [
            "Environment Paths (Python): \n",
            "/usr\n"
          ]
        }
      ]
    },
    {
      "cell_type": "code",
      "source": [
        "from rasterio.crs import CRS\n",
        "import pyproj\n",
        "epsg_code = 32645\n",
        "# Define the CRS object\n",
        "crs = CRS.from_epsg(epsg_code)\n",
        "# Construct the CRS string using the preferred syntax\n",
        "crs_string = f'epsg:{epsg_code}'\n",
        "# Create a Pyproj projection object\n",
        "proj = pyproj.Proj(crs_string)"
      ],
      "metadata": {
        "colab": {
          "base_uri": "https://localhost:8080/",
          "height": 383
        },
        "id": "NZpgPZFQYfWy",
        "outputId": "64794ca5-1dcf-463f-c10d-e6f914b340c9"
      },
      "execution_count": 3,
      "outputs": [
        {
          "output_type": "error",
          "ename": "ModuleNotFoundError",
          "evalue": "No module named 'rasterio'",
          "traceback": [
            "\u001b[0;31m---------------------------------------------------------------------------\u001b[0m",
            "\u001b[0;31mModuleNotFoundError\u001b[0m                       Traceback (most recent call last)",
            "\u001b[0;32m<ipython-input-3-01c4f22ed450>\u001b[0m in \u001b[0;36m<cell line: 1>\u001b[0;34m()\u001b[0m\n\u001b[0;32m----> 1\u001b[0;31m \u001b[0;32mfrom\u001b[0m \u001b[0mrasterio\u001b[0m\u001b[0;34m.\u001b[0m\u001b[0mcrs\u001b[0m \u001b[0;32mimport\u001b[0m \u001b[0mCRS\u001b[0m\u001b[0;34m\u001b[0m\u001b[0;34m\u001b[0m\u001b[0m\n\u001b[0m\u001b[1;32m      2\u001b[0m \u001b[0;32mimport\u001b[0m \u001b[0mpyproj\u001b[0m\u001b[0;34m\u001b[0m\u001b[0;34m\u001b[0m\u001b[0m\n\u001b[1;32m      3\u001b[0m \u001b[0mepsg_code\u001b[0m \u001b[0;34m=\u001b[0m \u001b[0;36m32645\u001b[0m\u001b[0;34m\u001b[0m\u001b[0;34m\u001b[0m\u001b[0m\n\u001b[1;32m      4\u001b[0m \u001b[0;31m# Define the CRS object\u001b[0m\u001b[0;34m\u001b[0m\u001b[0;34m\u001b[0m\u001b[0m\n\u001b[1;32m      5\u001b[0m \u001b[0mcrs\u001b[0m \u001b[0;34m=\u001b[0m \u001b[0mCRS\u001b[0m\u001b[0;34m.\u001b[0m\u001b[0mfrom_epsg\u001b[0m\u001b[0;34m(\u001b[0m\u001b[0mepsg_code\u001b[0m\u001b[0;34m)\u001b[0m\u001b[0;34m\u001b[0m\u001b[0;34m\u001b[0m\u001b[0m\n",
            "\u001b[0;31mModuleNotFoundError\u001b[0m: No module named 'rasterio'",
            "",
            "\u001b[0;31m---------------------------------------------------------------------------\u001b[0;32m\nNOTE: If your import is failing due to a missing package, you can\nmanually install dependencies using either !pip or !apt.\n\nTo view examples of installing some common dependencies, click the\n\"Open Examples\" button below.\n\u001b[0;31m---------------------------------------------------------------------------\u001b[0m\n"
          ],
          "errorDetails": {
            "actions": [
              {
                "action": "open_url",
                "actionText": "Open Examples",
                "url": "/notebooks/snippets/importing_libraries.ipynb"
              }
            ]
          }
        }
      ]
    },
    {
      "cell_type": "code",
      "source": [
        "import geopandas as gpd"
      ],
      "metadata": {
        "id": "3rhO6pyWazfO"
      },
      "execution_count": 10,
      "outputs": []
    },
    {
      "cell_type": "code",
      "source": [
        "\n",
        "shp = '/content/drive/MyDrive/pysheds_sample_data/ls.shp'\n",
        "dem_tif = '/content/drive/MyDrive/pysheds_sample_data/dem.tif'\n"
      ],
      "metadata": {
        "id": "VV4V35jlYu63"
      },
      "execution_count": 11,
      "outputs": []
    },
    {
      "cell_type": "code",
      "source": [
        "gdf = gpd.read_file(shp)\n",
        "feat = gdf.iloc[0]\n",
        "polygon = feat.geometry\n",
        "polygon"
      ],
      "metadata": {
        "colab": {
          "base_uri": "https://localhost:8080/",
          "height": 121
        },
        "id": "cPKkxmn8ayJm",
        "outputId": "df4d46ab-fe58-4522-e862-a9baea6b7f6c"
      },
      "execution_count": 15,
      "outputs": [
        {
          "output_type": "execute_result",
          "data": {
            "text/plain": [
              "<POLYGON ((362237.901 3106607.281, 362241.87 3106603.313, 362245.838 3106603...>"
            ],
            "image/svg+xml": "<svg xmlns=\"http://www.w3.org/2000/svg\" xmlns:xlink=\"http://www.w3.org/1999/xlink\" width=\"282.8930400001118\" height=\"100.0\" viewBox=\"362175.8293800002 3106521.39748 282.8930400001118 96.3614400010556\" preserveAspectRatio=\"xMinYMin meet\"><g transform=\"matrix(1,0,0,-1,0,6213139.156400001)\"><path fill-rule=\"evenodd\" fill=\"#66cc99\" stroke=\"#555555\" stroke-width=\"2.0\" opacity=\"0.6\" d=\"M 362237.90079999994,3106607.2814000007 L 362241.86950000003,3106603.3126999997 L 362245.83829999994,3106603.3126999997 L 362257.74459999986,3106603.3126999997 L 362261.71329999994,3106603.3126999997 L 362265.68209999986,3106595.3751999997 L 362273.61959999986,3106595.3751999997 L 362277.58829999994,3106595.3751999997 L 362285.5258999998,3106591.4064000007 L 362289.49459999986,3106591.4064000007 L 362301.4008999998,3106587.4376 L 362309.3383999998,3106583.4689000007 L 362317.2758999998,3106583.4689000007 L 362333.1509999996,3106579.5001 L 362345.0571999997,3106579.5001 L 362349.0259999996,3106579.5001 L 362360.93230000045,3106579.5001 L 362364.9009999996,3106579.5001 L 362388.71360000037,3106571.5626 L 362396.65110000037,3106571.5626 L 362400.61980000045,3106571.5626 L 362408.5574000003,3106567.5939000007 L 362412.52610000037,3106563.6251 L 362416.4949000003,3106563.6251 L 362420.46360000037,3106563.6251 L 362432.3699000003,3106563.6251 L 362440.3074000003,3106563.6251 L 362448.2449000003,3106563.6251 L 362448.2449000003,3106555.6876 L 362448.2449000003,3106551.718800001 L 362448.2449000003,3106547.7501 L 362448.2449000003,3106539.8125 L 362444.2762000002,3106539.8125 L 362440.3074000003,3106539.8125 L 362436.3387000002,3106531.875 L 362432.3699000003,3106531.875 L 362424.4324000003,3106531.875 L 362412.52610000037,3106531.875 L 362404.58860000037,3106535.843800001 L 362400.61980000045,3106539.8125 L 362392.68230000045,3106539.8125 L 362384.74480000045,3106543.781300001 L 362380.77610000037,3106543.781300001 L 362380.77610000037,3106547.7501 L 362376.80730000045,3106547.7501 L 362372.8384999996,3106547.7501 L 362360.93230000045,3106547.7501 L 362352.9946999997,3106551.718800001 L 362345.0571999997,3106551.718800001 L 362337.1196999997,3106559.656300001 L 362329.1821999997,3106559.656300001 L 362309.3383999998,3106575.5314000007 L 362305.3696999997,3106579.5001 L 362297.43209999986,3106583.4689000007 L 362285.5258999998,3106583.4689000007 L 362269.65079999994,3106591.4064000007 L 362265.68209999986,3106591.4064000007 L 362261.71329999994,3106591.4064000007 L 362249.80700000003,3106591.4064000007 L 362233.93200000003,3106591.4064000007 L 362229.96329999994,3106591.4064000007 L 362225.99450000003,3106591.4064000007 L 362218.05700000003,3106591.4064000007 L 362210.11950000003,3106587.4376 L 362210.11950000003,3106583.4689000007 L 362198.2132000001,3106583.4689000007 L 362194.2444000002,3106583.4689000007 L 362186.3069000002,3106583.4689000007 L 362186.3069000002,3106607.2814000007 L 362194.2444000002,3106607.2814000007 L 362202.1819000002,3106607.2814000007 L 362210.11950000003,3106607.2814000007 L 362222.0257000001,3106607.2814000007 L 362225.99450000003,3106607.2814000007 L 362233.93200000003,3106607.2814000007 L 362237.90079999994,3106607.2814000007 z\" /></g></svg>"
          },
          "metadata": {},
          "execution_count": 15
        }
      ]
    },
    {
      "cell_type": "code",
      "source": [
        "\n",
        "polygon = feat.geometry\n",
        "buffer = (polygon.area**0.5)/2\n",
        "buffer = 5\n",
        "mbr = polygon.minimum_rotated_rectangle.buffer(10)\n",
        "bounds = mbr.envelope.buffer(buffer).bounds\n",
        "\n",
        "xmin, ymin, xmax, ymax = bounds\n",
        "extent = (xmin, xmax, ymin, ymax)\n"
      ],
      "metadata": {
        "id": "8WdJCgV6bKOp"
      },
      "execution_count": 16,
      "outputs": []
    },
    {
      "cell_type": "code",
      "source": [
        "import numpy as np\n",
        "import rasterio\n",
        "from rasterio.windows import from_bounds\n",
        "from rasterio.io import MemoryFile\n",
        "from rasterio.features import geometry_mask\n",
        "from rasterio.mask import mask\n",
        "import matplotlib.pyplot as plt\n",
        "from matplotlib import colors\n",
        "from pysheds.grid import Grid\n",
        "\n",
        "# Open DEM data\n",
        "with rasterio.open(dem_tif) as src:\n",
        "    window = from_bounds(*bounds, transform=src.transform)\n",
        "    # Read DEM data within the window subset\n",
        "    subsetDemData = src.read(1, window=window)\n",
        "    transform = src.window_transform(window)\n",
        "    width, height = window.width, window.height\n",
        "    nodata_value = src.nodata\n",
        "    dtype = src.dtypes[0]\n",
        "\n",
        "    clipped_raster, clipped_transform = mask(src, [polygon], crop=True)\n",
        "    # Convert NoData values to np.nan\n",
        "    clipped_raster = clipped_raster.astype(np.float32)\n",
        "    clipped_raster[clipped_raster == src.nodata] = np.nan\n",
        "\n",
        "    print('clipped_raster: ', clipped_raster)\n",
        "    clipped_raster_height, clipped_raster_width = clipped_raster.shape[1], clipped_raster.shape[2]\n",
        "\n",
        "    # Update metadata for the clipped raster\n",
        "    clipped_meta = src.meta.copy()\n",
        "    clipped_meta.update({\n",
        "        \"height\": clipped_raster_height,\n",
        "        \"width\": clipped_raster_width,\n",
        "        \"transform\": clipped_transform,\n",
        "        \"dtype\":np.float32\n",
        "    })\n",
        "\n",
        "    with MemoryFile() as memFile:\n",
        "        # Create a new raster dataset\n",
        "        with memFile.open(**clipped_meta) as memSrc:\n",
        "            # Write the accumulation data to the raster band\n",
        "            memSrc.write(clipped_raster[0], 1)\n",
        "            clipped_dem = memSrc.read(1)\n",
        "\n",
        "            grid = Grid.from_raster(memFile.name)\n",
        "            dem = grid.read_raster(memFile.name)\n",
        "\n",
        "            # Condition DEM\n",
        "            # ----------------------\n",
        "            # Fill pits in DEM\n",
        "            pit_filled_dem = grid.fill_pits(dem)\n",
        "\n",
        "            # Fill depressions in DEM\n",
        "            flooded_dem = grid.fill_depressions(pit_filled_dem)\n",
        "\n",
        "            # Resolve flats in DEM\n",
        "            inflated_dem = grid.resolve_flats(flooded_dem)\n",
        "\n",
        "\n",
        "            # Determine D8 flow directions from DEM\n",
        "            # Specify directional mapping\n",
        "                    #N   NE   E  SE S  SW W   NW\n",
        "            dirmap = (64, 128, 1, 2, 4, 8, 16, 32)\n",
        "\n",
        "            # Compute flow directions\n",
        "            fdir = grid.flowdir(inflated_dem, dirmap=dirmap)\n",
        "\n",
        "\n",
        "            # Calculate flow accumulation\n",
        "            acc = grid.accumulation(fdir, dirmap=dirmap)\n",
        "\n",
        "            (x, y) = polygon.centroid.x, polygon.centroid.y\n",
        "            y_snap, x_snap = np.unravel_index(np.argmax(acc), acc.shape)\n",
        "            catch = grid.catchment(x=x_snap , y=y_snap, fdir=fdir, xytype='index')\n",
        "            print((x, y) , (y_snap, x_snap), catch)\n",
        "\n",
        "            # Snap pour point to high accumulation cell\n",
        "            # x_snap, y_snap = grid.snap_to_mask(acc > 1000, (x, y))\n",
        "\n",
        "            # Delineate the catchment\n",
        "            # catch = grid.catchment(x=x_snap, y=y_snap, fdir=fdir, dirmap=dirmap,\n",
        "            #                       xytype='coordinate')\n",
        "\n",
        "            #shapes = grid.polygonize()\n",
        "\n",
        "            # Extract the river network\n",
        "            # Extract river network\n",
        "            # ---------------------\n",
        "            branches = grid.extract_river_network(fdir, acc > 2, dirmap=dirmap)\n",
        "\n",
        "\n",
        "            # PLOT\n",
        "            fig, axes = plt.subplots(2, 2, figsize=(8, 4))\n",
        "\n",
        "            ax1 = axes[0,0]\n",
        "            im1 = ax1.imshow(subsetDemData, extent=(xmin, xmax, ymin, ymax) , cmap='gray', zorder=1)\n",
        "            xs, ys = polygon.exterior.xy\n",
        "            ax1.plot(xs,ys, c='red', linewidth=3, zorder=10)\n",
        "\n",
        "            plt.colorbar(im1, ax=ax1, label='Elevation')\n",
        "\n",
        "            _xmin, _ymin, _xmax, _ymax = memSrc.bounds\n",
        "\n",
        "            ax2 = axes[0,1]\n",
        "            im2 = ax2.imshow(clipped_dem, extent=(_xmin, _xmax, _ymin, _ymax) , cmap='gray', vmin=np.nanmin(clipped_raster), vmax=np.nanmax(clipped_raster), zorder=1)\n",
        "            ax2.plot(xs,ys, c='red', linewidth=2, zorder=10)\n",
        "            plt.colorbar(im2, ax=ax2, label='Elevation')\n",
        "\n",
        "            ax3 = axes[1,0]\n",
        "            im3 = ax3.imshow(acc, extent=(_xmin, _xmax, _ymin, _ymax), zorder=1, cmap='cubehelix', norm=colors.LogNorm(1, acc.max()), interpolation='bilinear')\n",
        "\n",
        "            plt.colorbar(im3, ax=ax3, label='Upstream Cells')\n",
        "\n",
        "\n",
        "            ax4 = axes[1,1]\n",
        "            ax4.set_xlim (xmin, xmax)\n",
        "            ax4.set_ylim (ymin, ymax)\n",
        "            for branch in branches['features']:\n",
        "                line = np.asarray(branch['geometry']['coordinates'])\n",
        "                ax4.plot(line[:, 0], line[:, 1])\n",
        "            ax4.plot(xs,ys, c='red', linewidth=3, zorder=10)\n",
        "\n",
        "            plt.axis('equal')\n",
        "            plt.show()\n",
        "\n",
        "\n"
      ],
      "metadata": {
        "colab": {
          "base_uri": "https://localhost:8080/",
          "height": 383
        },
        "id": "cFK6ApVobKps",
        "outputId": "aa1c12ed-1c98-486b-f374-0ed95241e809"
      },
      "execution_count": 1,
      "outputs": [
        {
          "output_type": "error",
          "ename": "ModuleNotFoundError",
          "evalue": "No module named 'rasterio'",
          "traceback": [
            "\u001b[0;31m---------------------------------------------------------------------------\u001b[0m",
            "\u001b[0;31mModuleNotFoundError\u001b[0m                       Traceback (most recent call last)",
            "\u001b[0;32m<ipython-input-1-6d7be3f1f420>\u001b[0m in \u001b[0;36m<cell line: 2>\u001b[0;34m()\u001b[0m\n\u001b[1;32m      1\u001b[0m \u001b[0;32mimport\u001b[0m \u001b[0mnumpy\u001b[0m \u001b[0;32mas\u001b[0m \u001b[0mnp\u001b[0m\u001b[0;34m\u001b[0m\u001b[0;34m\u001b[0m\u001b[0m\n\u001b[0;32m----> 2\u001b[0;31m \u001b[0;32mimport\u001b[0m \u001b[0mrasterio\u001b[0m\u001b[0;34m\u001b[0m\u001b[0;34m\u001b[0m\u001b[0m\n\u001b[0m\u001b[1;32m      3\u001b[0m \u001b[0;32mfrom\u001b[0m \u001b[0mrasterio\u001b[0m\u001b[0;34m.\u001b[0m\u001b[0mwindows\u001b[0m \u001b[0;32mimport\u001b[0m \u001b[0mfrom_bounds\u001b[0m\u001b[0;34m\u001b[0m\u001b[0;34m\u001b[0m\u001b[0m\n\u001b[1;32m      4\u001b[0m \u001b[0;32mfrom\u001b[0m \u001b[0mrasterio\u001b[0m\u001b[0;34m.\u001b[0m\u001b[0mio\u001b[0m \u001b[0;32mimport\u001b[0m \u001b[0mMemoryFile\u001b[0m\u001b[0;34m\u001b[0m\u001b[0;34m\u001b[0m\u001b[0m\n\u001b[1;32m      5\u001b[0m \u001b[0;32mfrom\u001b[0m \u001b[0mrasterio\u001b[0m\u001b[0;34m.\u001b[0m\u001b[0mfeatures\u001b[0m \u001b[0;32mimport\u001b[0m \u001b[0mgeometry_mask\u001b[0m\u001b[0;34m\u001b[0m\u001b[0;34m\u001b[0m\u001b[0m\n",
            "\u001b[0;31mModuleNotFoundError\u001b[0m: No module named 'rasterio'",
            "",
            "\u001b[0;31m---------------------------------------------------------------------------\u001b[0;32m\nNOTE: If your import is failing due to a missing package, you can\nmanually install dependencies using either !pip or !apt.\n\nTo view examples of installing some common dependencies, click the\n\"Open Examples\" button below.\n\u001b[0;31m---------------------------------------------------------------------------\u001b[0m\n"
          ],
          "errorDetails": {
            "actions": [
              {
                "action": "open_url",
                "actionText": "Open Examples",
                "url": "/notebooks/snippets/importing_libraries.ipynb"
              }
            ]
          }
        }
      ]
    },
    {
      "cell_type": "code",
      "source": [],
      "metadata": {
        "id": "6QLxY2lTjpy8"
      },
      "execution_count": null,
      "outputs": []
    }
  ]
}